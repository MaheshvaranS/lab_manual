{
 "cells": [
  {
   "cell_type": "code",
   "execution_count": 1,
   "id": "visible-conducting",
   "metadata": {},
   "outputs": [
    {
     "name": "stdout",
     "output_type": "stream",
     "text": [
      "{'id': '09', 'name': 'Nitin', 'department': 'Finance'}\n",
      "Nitin\n"
     ]
    }
   ],
   "source": [
    "# Python program to convert JSON to Python \n",
    "\n",
    "\n",
    "import json \n",
    "\n",
    "# JSON string \n",
    "employee ='{\"id\":\"09\", \"name\": \"Nitin\", \"department\":\"Finance\"}'\n",
    "\n",
    "# Convert string to Python dict \n",
    "employee_dict = json.loads(employee) \n",
    "print(employee_dict) \n",
    "\n",
    "print(employee_dict['name']) \n"
   ]
  },
  {
   "cell_type": "code",
   "execution_count": 2,
   "id": "silver-japan",
   "metadata": {},
   "outputs": [
    {
     "name": "stdout",
     "output_type": "stream",
     "text": [
      "{'emp_name': 'Shubham', 'email': 'ksingh.shubh@gmail.com', 'job_profile': 'intern'}\n",
      "{'emp_name': 'Gaurav', 'email': 'gaurav.singh@gmail.com', 'job_profile': 'developer'}\n",
      "{'emp_name': 'Nikhil', 'email': 'nikhil@gmail.com', 'job_profile': 'Full Time'}\n"
     ]
    }
   ],
   "source": [
    "# Python program to read \n",
    "# json file \n",
    "\n",
    "\n",
    "import json \n",
    "\n",
    "# Opening JSON file \n",
    "f = open('data.json') \n",
    "\n",
    "# returns JSON object as \n",
    "# a dictionary \n",
    "data = json.load(f) \n",
    "\n",
    "# Iterating through the json \n",
    "# list \n",
    "for i in data['emp_details']:\n",
    "    print(i) \n",
    "\n",
    "# Closing file \n",
    "f.close() "
   ]
  },
  {
   "cell_type": "code",
   "execution_count": 3,
   "id": "legendary-belfast",
   "metadata": {},
   "outputs": [],
   "source": [
    "# Python program to write JSON \n",
    "# to a file \n",
    "\n",
    "\n",
    "import json \n",
    "\n",
    "# Data to be written \n",
    "dictionary ={ \n",
    "    \"name\" : \"sathiyajith\", \n",
    "    \"rollno\" : 56, \n",
    "    \"cgpa\" : 8.6, \n",
    "    \"phonenumber\" : \"9976770500\"\n",
    "} \n",
    "\n",
    "with open(\"sample.json\", \"w\") as outfile: \n",
    "    json.dump(dictionary, outfile)"
   ]
  },
  {
   "cell_type": "code",
   "execution_count": 4,
   "id": "designing-ownership",
   "metadata": {},
   "outputs": [
    {
     "name": "stdout",
     "output_type": "stream",
     "text": [
      "{\n",
      "    \"id\": \"04\",\n",
      "    \"name\": \"sunil\",\n",
      "    \"depatment\": \"HR\"\n",
      "}\n"
     ]
    }
   ],
   "source": [
    "# Python program to convert \n",
    "# Python to JSON \n",
    "\n",
    "\n",
    "import json \n",
    "\n",
    "# Data to be written \n",
    "dictionary ={ \n",
    "\"id\": \"04\", \n",
    "\"name\": \"sunil\", \n",
    "\"depatment\": \"HR\"\n",
    "} \n",
    "\n",
    "# Serializing json \n",
    "json_object = json.dumps(dictionary, indent = 4) \n",
    "print(json_object) \n"
   ]
  },
  {
   "cell_type": "code",
   "execution_count": null,
   "id": "weighted-score",
   "metadata": {},
   "outputs": [],
   "source": []
  }
 ],
 "metadata": {
  "kernelspec": {
   "display_name": "Python 3",
   "language": "python",
   "name": "python3"
  },
  "language_info": {
   "codemirror_mode": {
    "name": "ipython",
    "version": 3
   },
   "file_extension": ".py",
   "mimetype": "text/x-python",
   "name": "python",
   "nbconvert_exporter": "python",
   "pygments_lexer": "ipython3",
   "version": "3.8.5"
  }
 },
 "nbformat": 4,
 "nbformat_minor": 5
}
