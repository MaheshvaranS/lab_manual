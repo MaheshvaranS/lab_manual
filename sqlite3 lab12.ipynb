{
 "cells": [
  {
   "cell_type": "markdown",
   "id": "suburban-graham",
   "metadata": {},
   "source": [
    "### Lab12. Database Programming using sqlite3"
   ]
  },
  {
   "cell_type": "markdown",
   "id": "contained-physiology",
   "metadata": {},
   "source": [
    "#### Question1: Perform CRUD operations on student table as outlined in the reference (https://medium.com/analytics-vidhya/programming-with-databases-in-python-using-sqlite4cecbef51ab9 ). "
   ]
  },
  {
   "cell_type": "code",
   "execution_count": 8,
   "id": "psychological-preview",
   "metadata": {},
   "outputs": [
    {
     "name": "stdout",
     "output_type": "stream",
     "text": [
      "Opened database successfully\n"
     ]
    }
   ],
   "source": [
    "import sqlite3\n",
    "conn = sqlite3.connect('mydatabase1.sqlite')\n",
    "cursor = conn.cursor()\n",
    "print(\"Opened database successfully\")"
   ]
  },
  {
   "cell_type": "markdown",
   "id": "chemical-merit",
   "metadata": {},
   "source": [
    "#### Performing Create Operation "
   ]
  },
  {
   "cell_type": "code",
   "execution_count": 11,
   "id": "concrete-pattern",
   "metadata": {},
   "outputs": [],
   "source": [
    "cursor.execute('''CREATE TABLE COLLEGE\n",
    "         (ID INT PRIMARY KEY     NOT NULL,\n",
    "         NAME           TEXT    NOT NULL,\n",
    "         AGE            INT     NOT NULL,\n",
    "         ADDRESS        CHAR(50),\n",
    "         MARKS          INT);''')\n",
    "cursor.close()"
   ]
  },
  {
   "cell_type": "code",
   "execution_count": 15,
   "id": "functional-surfing",
   "metadata": {},
   "outputs": [],
   "source": [
    "import sqlite3\n",
    "conn = sqlite3.connect('mydatabase1.sqlite')\n",
    "cursor = conn.cursor()\n",
    "cursor.execute(\"INSERT INTO COLLEGE (ID,NAME,AGE,ADDRESS,MARKS) \\\n",
    "      VALUES (1, 'Dinesh', 21, 'Delhi', 400)\");\n",
    "cursor.execute(\"INSERT INTO COLLEGE (ID,NAME,AGE,ADDRESS,MARKS) \\\n",
    "      VALUES (2, 'Sathish', 21, 'Bangalore', 450 )\");\n",
    "cursor.execute(\"INSERT INTO COLLEGE (ID,NAME,AGE,ADDRESS,MARKS) \\\n",
    "      VALUES (3, 'Kumar', 21, 'Hyderabad', 400 )\");\n",
    "cursor.execute(\"INSERT INTO COLLEGE (ID,NAME,AGE,ADDRESS,MARKS) \\\n",
    "      VALUES (4, 'Saro', 21, 'Kolkata', 650)\");\n",
    "conn.commit()\n",
    "conn.close()"
   ]
  },
  {
   "cell_type": "markdown",
   "id": "interim-animation",
   "metadata": {},
   "source": [
    "#### Performing Read operation"
   ]
  },
  {
   "cell_type": "code",
   "execution_count": 17,
   "id": "functioning-course",
   "metadata": {},
   "outputs": [
    {
     "name": "stdout",
     "output_type": "stream",
     "text": [
      "ID =  1\n",
      "NAME =  Dinesh\n",
      "MARKS =  400 \n",
      "\n",
      "ID =  2\n",
      "NAME =  Sathish\n",
      "MARKS =  450 \n",
      "\n",
      "ID =  3\n",
      "NAME =  Kumar\n",
      "MARKS =  400 \n",
      "\n",
      "ID =  4\n",
      "NAME =  Saro\n",
      "MARKS =  650 \n",
      "\n"
     ]
    }
   ],
   "source": [
    "import sqlite3\n",
    "conn = sqlite3.connect('mydatabase1.sqlite')\n",
    "cursor = conn.cursor()\n",
    "for row in cursor.execute(\"SELECT ID, NAME, MARKS from COLLEGE\"):\n",
    "    print(\"ID = \", row[0])\n",
    "    print(\"NAME = \", row[1])\n",
    "    print(\"MARKS = \", row[2], \"\\n\")\n",
    "conn.commit()\n",
    "conn.close()"
   ]
  },
  {
   "cell_type": "markdown",
   "id": "authorized-mistake",
   "metadata": {},
   "source": [
    "#### Performing Update operation"
   ]
  },
  {
   "cell_type": "code",
   "execution_count": 20,
   "id": "higher-highland",
   "metadata": {},
   "outputs": [
    {
     "name": "stdout",
     "output_type": "stream",
     "text": [
      "ID =  1\n",
      "NAME =  Dinesh\n",
      "MARKS =  400 \n",
      "\n",
      "ID =  2\n",
      "NAME =  Sathish\n",
      "MARKS =  450 \n",
      "\n",
      "ID =  3\n",
      "NAME =  Kumar\n",
      "MARKS =  400 \n",
      "\n",
      "ID =  4\n",
      "NAME =  Saro\n",
      "MARKS =  440 \n",
      "\n"
     ]
    }
   ],
   "source": [
    "import sqlite3\n",
    "conn = sqlite3.connect('mydatabase1.sqlite')\n",
    "cursor = conn.cursor()\n",
    "conn.execute(\"UPDATE COLLEGE set MARKS = 440 where ID = 4\")\n",
    "conn.commit()\n",
    "for row in cursor.execute(\"SELECT ID, NAME, MARKS from COLLEGE\"):\n",
    "    print(\"ID = \", row[0])\n",
    "    print(\"NAME = \", row[1])\n",
    "    print(\"MARKS = \", row[2], \"\\n\")\n",
    "conn.commit()\n",
    "conn.close()"
   ]
  },
  {
   "cell_type": "markdown",
   "id": "pharmaceutical-semiconductor",
   "metadata": {},
   "source": [
    "#### Performing Delete Operation"
   ]
  },
  {
   "cell_type": "code",
   "execution_count": 22,
   "id": "introductory-regulation",
   "metadata": {},
   "outputs": [
    {
     "name": "stdout",
     "output_type": "stream",
     "text": [
      "ID =  1\n",
      "NAME =  Dinesh\n",
      "ADDRESS =  Delhi\n",
      "MARKS =  400 \n",
      "\n",
      "ID =  2\n",
      "NAME =  Sathish\n",
      "ADDRESS =  Bangalore\n",
      "MARKS =  450 \n",
      "\n",
      "ID =  4\n",
      "NAME =  Saro\n",
      "ADDRESS =  Kolkata\n",
      "MARKS =  440 \n",
      "\n"
     ]
    }
   ],
   "source": [
    "import sqlite3\n",
    "conn = sqlite3.connect('mydatabase1.sqlite')\n",
    "cursor = conn.cursor()\n",
    "conn.execute(\"DELETE from  COLLEGE where ID = 3\")\n",
    "conn.commit()\n",
    "for row in cursor.execute(\"SELECT ID, NAME, ADDRESS, MARKS from COLLEGE\"):\n",
    "    print(\"ID = \", row[0])\n",
    "    print(\"NAME = \", row[1])\n",
    "    print(\"ADDRESS = \", row[2])\n",
    "    print(\"MARKS = \", row[3], \"\\n\")\n",
    "conn.commit()\n",
    "conn.close()"
   ]
  },
  {
   "cell_type": "markdown",
   "id": "sufficient-rescue",
   "metadata": {},
   "source": [
    "#### Question2: Open the table MyRestaurant.db that you have created fo NoSQL course"
   ]
  },
  {
   "cell_type": "code",
   "execution_count": 3,
   "id": "durable-federal",
   "metadata": {},
   "outputs": [
    {
     "name": "stdout",
     "output_type": "stream",
     "text": [
      "Opened database successfully\n"
     ]
    }
   ],
   "source": [
    "import sqlite3\n",
    "conn = sqlite3.connect('my_database.sqlite')\n",
    "cursor = conn.cursor()\n",
    "print(\"Opened database successfully\")"
   ]
  },
  {
   "cell_type": "code",
   "execution_count": 12,
   "id": "brave-atlanta",
   "metadata": {},
   "outputs": [],
   "source": [
    "import sqlite3\n",
    "conn = sqlite3.connect('my_database.sqlite')\n",
    "cursor = conn.cursor()\n",
    "cursor.execute('''CREATE TABLE MYRESTAURANT\n",
    "         (NAME           TEXT,\n",
    "          FOODTYPE       TEXT,\n",
    "          DISTANCE       INT,\n",
    "          LASTVISIT      VARCHAR,\n",
    "          ILIKE          VARCHAR);''')\n",
    "cursor.close()"
   ]
  },
  {
   "cell_type": "code",
   "execution_count": 1,
   "id": "suspected-gateway",
   "metadata": {},
   "outputs": [],
   "source": [
    "import sqlite3\n",
    "conn = sqlite3.connect('my_database.sqlite')\n",
    "cursor = conn.cursor()\n",
    "cursor.execute(\"INSERT INTO MYRESTAURANT  (NAME,FOODTYPE,DISTANCE,LASTVISIT,ILIKE) \\\n",
    "      VALUES ('apple_leaf', 'nonveg', 15, '01-Jan-2020', 1)\");\n",
    "cursor.execute(\"INSERT INTO MYRESTAURANT  (NAME,FOODTYPE,DISTANCE,LASTVISIT,ILIKE) \\\n",
    "      VALUES ('sowmyas', 'veg', 18, '20-Mar-2020', 1)\");\n",
    "cursor.execute(\"INSERT INTO MYRESTAURANT  (NAME,FOODTYPE,DISTANCE,LASTVISIT,ILIKE) \\\n",
    "      VALUES ('thinnappa', 'nonveg', 25, '20-Nov-2019', 0)\");\n",
    "cursor.execute(\"INSERT INTO MYRESTAURANT  (NAME,FOODTYPE,DISTANCE,LASTVISIT,ILIKE) \\\n",
    "      VALUES ('sribhavan', 'veg', 18, '20-Dec-2019', 0)\");\n",
    "cursor.execute(\"INSERT INTO MYRESTAURANT  (NAME,FOODTYPE,DISTANCE,LASTVISIT,ILIKE) \\\n",
    "      VALUES ('chinaworld', 'chinese', 14, '05-Mar-2020', 0)\");\n",
    "cursor.execute(\"INSERT INTO MYRESTAURANT  (NAME,FOODTYPE,DISTANCE,LASTVISIT,ILIKE) \\\n",
    "      VALUES ('littlechina', 'chinese', 30, '10-Mar-2020', 0)\");\n",
    "cursor.execute(\"INSERT INTO MYRESTAURANT  (NAME,FOODTYPE,DISTANCE,LASTVISIT,ILIKE) \\\n",
    "      VALUES ('munivilas', 'nonveg', 20, '05-Dec-2019', 'null')\");\n",
    "cursor.execute(\"INSERT INTO MYRESTAURANT  (NAME,FOODTYPE,DISTANCE,LASTVISIT,ILIKE) \\\n",
    "      VALUES ('dosacorner', 'nonveg', 10, '05-Feb-2020', 1)\");\n",
    "conn.commit()\n",
    "conn.close()"
   ]
  },
  {
   "cell_type": "markdown",
   "id": "loving-travel",
   "metadata": {},
   "source": [
    "#### Question3: Write a SQL query that returns all restaurants in your table MyRestaurant.db"
   ]
  },
  {
   "cell_type": "code",
   "execution_count": 2,
   "id": "constant-arrival",
   "metadata": {},
   "outputs": [
    {
     "name": "stdout",
     "output_type": "stream",
     "text": [
      "NAME =  apple_leaf\n",
      "NAME =  sowmyas\n",
      "NAME =  thinnappa\n",
      "NAME =  sribhavan\n",
      "NAME =  chinaworld\n",
      "NAME =  littlechina\n",
      "NAME =  munivilas\n",
      "NAME =  dosacorner\n"
     ]
    }
   ],
   "source": [
    "import sqlite3\n",
    "conn = sqlite3.connect('my_database.sqlite')\n",
    "cursor = conn.cursor()\n",
    "for row in cursor.execute(\"SELECT NAME from MYRESTAURANT\"):\n",
    "    print(\"NAME = \", row[0])\n",
    "conn.commit()\n",
    "conn.close()"
   ]
  },
  {
   "cell_type": "markdown",
   "id": "starting-bridges",
   "metadata": {},
   "source": [
    "#### Question4: Write a SQL query that returns the names of restaurants in descending order that makes Chinese foods."
   ]
  },
  {
   "cell_type": "code",
   "execution_count": 7,
   "id": "recreational-bread",
   "metadata": {},
   "outputs": [
    {
     "name": "stdout",
     "output_type": "stream",
     "text": [
      "NAME =  chinaworld\n",
      "FOODTYPE=  chinese\n",
      "NAME =  littlechina\n",
      "FOODTYPE=  chinese\n"
     ]
    }
   ],
   "source": [
    "import sqlite3\n",
    "conn = sqlite3.connect('my_database.sqlite')\n",
    "cursor = conn.cursor()\n",
    "for row in cursor.execute(\"SELECT NAME, FOODTYPE from MYRESTAURANT WHERE FOODTYPE = 'chinese' GROUP BY NAME, FOODTYPE ORDER BY NAME, FOODTYPE DESC\"):\n",
    "    print(\"NAME = \", row[0])\n",
    "    print(\"FOODTYPE= \", row[1])\n",
    "conn.commit()\n",
    "conn.close()"
   ]
  }
 ],
 "metadata": {
  "kernelspec": {
   "display_name": "Python 3",
   "language": "python",
   "name": "python3"
  },
  "language_info": {
   "codemirror_mode": {
    "name": "ipython",
    "version": 3
   },
   "file_extension": ".py",
   "mimetype": "text/x-python",
   "name": "python",
   "nbconvert_exporter": "python",
   "pygments_lexer": "ipython3",
   "version": "3.8.5"
  }
 },
 "nbformat": 4,
 "nbformat_minor": 5
}
